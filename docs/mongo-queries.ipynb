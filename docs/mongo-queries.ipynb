{
 "cells": [
  {
   "cell_type": "code",
   "execution_count": 1,
   "metadata": {
    "collapsed": true
   },
   "outputs": [],
   "source": [
    "import pymongo\n",
    "import operator\n",
    "import itertools\n",
    "from pprint import pprint"
   ]
  },
  {
   "cell_type": "code",
   "execution_count": 2,
   "metadata": {
    "collapsed": true
   },
   "outputs": [],
   "source": [
    "con = pymongo.MongoClient()\n",
    "db = con.lacuerda\n",
    "art = db.artists\n",
    "ver = db.versions\n",
    "songs = db.songs\n",
    "\n",
    "def show_cursor(cursor, limit=10):\n",
    "    for item in itertools.islice(cursor, limit):\n",
    "        pprint(item)"
   ]
  },
  {
   "cell_type": "markdown",
   "metadata": {},
   "source": [
    "### Ver si el album de una canción es el mismo en todas las versiones"
   ]
  },
  {
   "cell_type": "code",
   "execution_count": null,
   "metadata": {
    "collapsed": false
   },
   "outputs": [],
   "source": [
    "cur=ver.aggregate([\n",
    "        {\"$match\": {\"album\": {\"$ne\": None}}},\n",
    "        {\"$group\": {\"_id\": {\"artista\": \"$artista\", \"slug\": \"$slug\"},\n",
    "                    # \"versiones\": {\"$sum\": 1},\n",
    "                    \"albums\": {\"$addToSet\": \"$album\"}}},\n",
    "        {\"$project\": {\"_id\": 1, \"albums\": 1, \"album_count\": {\"$size\": \"$albums\"}}},\n",
    "        {\"$sort\": {\"album_count\": -1}},\n",
    "        {\"$limit\": 10}\n",
    "    ])\n",
    "show_cursor(cur)"
   ]
  },
  {
   "cell_type": "markdown",
   "metadata": {},
   "source": [
    "Conclusión: depende de la versión"
   ]
  },
  {
   "cell_type": "markdown",
   "metadata": {},
   "source": [
    "### Ver si el compositor de una canción es el mismo en todas las versiones"
   ]
  },
  {
   "cell_type": "code",
   "execution_count": null,
   "metadata": {
    "collapsed": false
   },
   "outputs": [],
   "source": [
    "cur=ver.aggregate([\n",
    "        {\"$match\": {\"autor\": {\"$ne\": None}}},\n",
    "        {\"$group\": {\"_id\": {\"artista\": \"$artista\", \"slug\": \"$slug\"},\n",
    "                    # \"versiones\": {\"$sum\": 1},\n",
    "                    \"autores\": {\"$addToSet\": \"$autor\"}}},\n",
    "        {\"$project\": {\"_id\": 1, \"autores\": 1, \"autor_count\": {\"$size\": \"$autores\"}}},\n",
    "        {\"$sort\": {\"autor_count\": -1}},\n",
    "        {\"$limit\": 10}\n",
    "    ])\n",
    "show_cursor(cur)"
   ]
  },
  {
   "cell_type": "markdown",
   "metadata": {},
   "source": [
    "El artista también depende de la versión"
   ]
  },
  {
   "cell_type": "markdown",
   "metadata": {
    "collapsed": true
   },
   "source": [
    "### Búsqueda de texto"
   ]
  },
  {
   "cell_type": "code",
   "execution_count": 62,
   "metadata": {
    "collapsed": false
   },
   "outputs": [
    {
     "name": "stdout",
     "output_type": "stream",
     "text": [
      "{'_id': 'andres_calamaro/alta_suciedad',\n",
      " 'album': 'Alta Suciedad (1997)',\n",
      " 'nombre': 'Alta Suciedad',\n",
      " 'nombre_artista': 'Andrés Calamaro',\n",
      " 'score': 8.833333333333332}\n",
      "{'_id': 'andres_calamaro/loco',\n",
      " 'album': 'Alta Suciedad (Ü¿¿)',\n",
      " 'nombre': 'Loco',\n",
      " 'nombre_artista': 'Andrés Calamaro',\n",
      " 'score': 6.833333333333334}\n",
      "{'_id': 'formula_v/loco_loco_casi_loco',\n",
      " 'album': None,\n",
      " 'nombre': 'Loco, loco casi loco',\n",
      " 'nombre_artista': 'Formula V',\n",
      " 'score': 6.125}\n",
      "{'_id': 'chico_trujillo/loco_loco',\n",
      " 'album': '2010 (2010)',\n",
      " 'nombre': 'Loco Loco',\n",
      " 'nombre_artista': 'Chico Trujillo',\n",
      " 'score': 6.0}\n",
      "{'_id': 'guffi/loco_loco',\n",
      " 'album': None,\n",
      " 'nombre': 'Loco, loco',\n",
      " 'nombre_artista': 'Guffi',\n",
      " 'score': 6.0}\n"
     ]
    }
   ],
   "source": [
    "query = 'loco alta suciedad calamaro'\n",
    "fields = {\"versiones.acordes\":0, \"versiones.contenido\": 0}\n",
    "songs_search = db.songs_search\n",
    "cur = songs_search.find({\"$text\": {\"$search\": query}},\n",
    "                 #{\"versiones.acordes\":0, \"versiones.contenido\": 0, \"score\": {\"$meta\": \"textScore\"}}).sort(\n",
    "                 {\"_id\": 1, \"album\": 1, \"nombre_artista\": 1, \"nombre\": 1, \"score\": {\"$meta\": \"textScore\"}}).sort(\n",
    "    [('score', {\"$meta\": \"textScore\"})]).limit(5)\n",
    "show_cursor(cur)"
   ]
  },
  {
   "cell_type": "code",
   "execution_count": 56,
   "metadata": {
    "collapsed": false
   },
   "outputs": [
    {
     "data": {
      "text/plain": [
       "{'executionStats': {'allPlansExecution': [],\n",
       "  'executionStages': {'advanced': 5,\n",
       "   'executionTimeMillisEstimate': 400,\n",
       "   'inputStage': {'advanced': 5,\n",
       "    'executionTimeMillisEstimate': 400,\n",
       "    'inputStage': {'advanced': 1832,\n",
       "     'docsExamined': 1832,\n",
       "     'executionTimeMillisEstimate': 400,\n",
       "     'indexName': 'nombre_text_nombre_artista_text_album_text',\n",
       "     'indexPrefix': {},\n",
       "     'invalidates': 0,\n",
       "     'isEOF': 1,\n",
       "     'keysExamined': 1975,\n",
       "     'nReturned': 1832,\n",
       "     'needFetch': 0,\n",
       "     'needTime': 1983,\n",
       "     'parsedTextQuery': {'negatedPhrases': [],\n",
       "      'negatedTerms': [],\n",
       "      'phrases': [],\n",
       "      'terms': ['tan',\n",
       "       'bueno',\n",
       "       'air',\n",
       "       'andr',\n",
       "       'calamaro',\n",
       "       'honestidad',\n",
       "       'brutal']},\n",
       "     'restoreState': 40,\n",
       "     'saveState': 40,\n",
       "     'stage': 'TEXT',\n",
       "     'works': 3816},\n",
       "    'invalidates': 0,\n",
       "    'isEOF': 1,\n",
       "    'limitAmount': 5,\n",
       "    'memLimit': 33554432,\n",
       "    'memUsage': 23226,\n",
       "    'nReturned': 5,\n",
       "    'needFetch': 0,\n",
       "    'needTime': 3816,\n",
       "    'restoreState': 40,\n",
       "    'saveState': 40,\n",
       "    'sortPattern': {'score': {'$meta': 'textScore'}},\n",
       "    'stage': 'SORT',\n",
       "    'works': 3823},\n",
       "   'invalidates': 0,\n",
       "   'isEOF': 1,\n",
       "   'nReturned': 5,\n",
       "   'needFetch': 0,\n",
       "   'needTime': 3817,\n",
       "   'restoreState': 40,\n",
       "   'saveState': 40,\n",
       "   'stage': 'PROJECTION',\n",
       "   'transformBy': {'score': {'$meta': 'textScore'},\n",
       "    'versiones.acordes': 0,\n",
       "    'versiones.contenido': 0},\n",
       "   'works': 3823},\n",
       "  'executionSuccess': True,\n",
       "  'executionTimeMillis': 407,\n",
       "  'nReturned': 5,\n",
       "  'totalDocsExamined': 1832,\n",
       "  'totalKeysExamined': 1975},\n",
       " 'queryPlanner': {'indexFilterSet': False,\n",
       "  'namespace': 'lacuerda.songs',\n",
       "  'parsedQuery': {'$text': {'$language': '',\n",
       "    '$search': 'no tan buenos aires andres calamaro honestidad brutal'}},\n",
       "  'plannerVersion': 1,\n",
       "  'rejectedPlans': [],\n",
       "  'winningPlan': {'inputStage': {'inputStage': {'indexName': 'nombre_text_nombre_artista_text_album_text',\n",
       "     'indexPrefix': {},\n",
       "     'parsedTextQuery': {'negatedPhrases': [],\n",
       "      'negatedTerms': [],\n",
       "      'phrases': [],\n",
       "      'terms': ['tan',\n",
       "       'bueno',\n",
       "       'air',\n",
       "       'andr',\n",
       "       'calamaro',\n",
       "       'honestidad',\n",
       "       'brutal']},\n",
       "     'stage': 'TEXT'},\n",
       "    'limitAmount': 5,\n",
       "    'sortPattern': {'score': {'$meta': 'textScore'}},\n",
       "    'stage': 'SORT'},\n",
       "   'stage': 'PROJECTION',\n",
       "   'transformBy': {'score': {'$meta': 'textScore'},\n",
       "    'versiones.acordes': 0,\n",
       "    'versiones.contenido': 0}}},\n",
       " 'serverInfo': {'gitVersion': 'nogitversion',\n",
       "  'host': 'criptonauta',\n",
       "  'port': 27017,\n",
       "  'version': '3.0.6'}}"
      ]
     },
     "execution_count": 56,
     "metadata": {},
     "output_type": "execute_result"
    }
   ],
   "source": [
    "query = 'no tan buenos aires andres calamaro honestidad brutal'\n",
    "fields = {\"versiones.acordes\":0, \"versiones.contenido\": 0}\n",
    "exp = songs.find({\"$text\": {\"$search\": query}},\n",
    "                 {\"versiones.acordes\":0, \"versiones.contenido\": 0, \"score\": {\"$meta\": \"textScore\"}}).sort(\n",
    "    [('score', {\"$meta\": \"textScore\"})]).limit(5).explain()\n",
    "exp"
   ]
  }
 ],
 "metadata": {
  "kernelspec": {
   "display_name": "Python 3",
   "language": "python",
   "name": "python3"
  },
  "language_info": {
   "codemirror_mode": {
    "name": "ipython",
    "version": 3
   },
   "file_extension": ".py",
   "mimetype": "text/x-python",
   "name": "python",
   "nbconvert_exporter": "python",
   "pygments_lexer": "ipython3",
   "version": "3.5.0"
  }
 },
 "nbformat": 4,
 "nbformat_minor": 0
}
