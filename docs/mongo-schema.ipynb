{
 "cells": [
  {
   "cell_type": "code",
   "execution_count": 1,
   "metadata": {
    "collapsed": true
   },
   "outputs": [],
   "source": [
    "import pymongo\n",
    "import operator\n",
    "import itertools\n",
    "from pprint import pprint\n",
    "from collections import OrderedDict"
   ]
  },
  {
   "cell_type": "code",
   "execution_count": 2,
   "metadata": {
    "collapsed": false
   },
   "outputs": [],
   "source": [
    "con = pymongo.MongoClient()\n",
    "db = con.lacuerda\n",
    "art = db.artists\n",
    "ver = db.versions\n",
    "songs = db.songs\n",
    "\n",
    "def show_cursor(cursor, limit=10):\n",
    "    for item in itertools.islice(cursor, limit):\n",
    "        pprint(item)"
   ]
  },
  {
   "cell_type": "markdown",
   "metadata": {},
   "source": [
    "### Usar slug del artista como _id"
   ]
  },
  {
   "cell_type": "code",
   "execution_count": 17,
   "metadata": {
    "collapsed": false
   },
   "outputs": [
    {
     "data": {
      "text/plain": [
       "{'_id': ObjectId('561bdcff6f3f6befd579cf85'),\n",
       " 'genero': 'Música Religiosa',\n",
       " 'nombre': 'Worship Together',\n",
       " 'pais': 'us',\n",
       " 'slug': 'worship_together'}"
      ]
     },
     "execution_count": 17,
     "metadata": {},
     "output_type": "execute_result"
    }
   ],
   "source": [
    "art.find_one()"
   ]
  },
  {
   "cell_type": "code",
   "execution_count": 29,
   "metadata": {
    "collapsed": false
   },
   "outputs": [],
   "source": [
    "c=art.aggregate([\n",
    "        {\"$project\": dict(_id=0, genero=1, slug=1, nombre=1, pais=1)},\n",
    "        {\"$project\": dict(_id=\"$slug\", genero=1, nombre=1, pais=1)},\n",
    "        {\"$out\": \"artists_with_id\"}\n",
    "    ])\n",
    "show_cursor(c)"
   ]
  },
  {
   "cell_type": "code",
   "execution_count": 32,
   "metadata": {
    "collapsed": false
   },
   "outputs": [
    {
     "data": {
      "text/plain": [
       "{'_id': 'worship_together',\n",
       " 'genero': 'Música Religiosa',\n",
       " 'nombre': 'Worship Together',\n",
       " 'pais': 'us'}"
      ]
     },
     "execution_count": 32,
     "metadata": {},
     "output_type": "execute_result"
    }
   ],
   "source": [
    "db.artists_with_id.find_one()"
   ]
  },
  {
   "cell_type": "code",
   "execution_count": 34,
   "metadata": {
    "collapsed": true
   },
   "outputs": [],
   "source": [
    "art.drop()"
   ]
  },
  {
   "cell_type": "code",
   "execution_count": 36,
   "metadata": {
    "collapsed": true
   },
   "outputs": [],
   "source": [
    "db.artists_with_id.rename('artists')"
   ]
  },
  {
   "cell_type": "code",
   "execution_count": 37,
   "metadata": {
    "collapsed": false
   },
   "outputs": [
    {
     "data": {
      "text/plain": [
       "{'_id': 'worship_together',\n",
       " 'genero': 'Música Religiosa',\n",
       " 'nombre': 'Worship Together',\n",
       " 'pais': 'us'}"
      ]
     },
     "execution_count": 37,
     "metadata": {},
     "output_type": "execute_result"
    }
   ],
   "source": [
    "db.artists.find_one()"
   ]
  },
  {
   "cell_type": "markdown",
   "metadata": {},
   "source": [
    "### Usar código de la canción como _id"
   ]
  },
  {
   "cell_type": "code",
   "execution_count": 38,
   "metadata": {
    "collapsed": false
   },
   "outputs": [
    {
     "data": {
      "text/plain": [
       "dict_keys(['codigo', '_id', 'acordes', 'transcriptor', 'autor', 'puntaje', 'nombre', 'version_number', 'formato', 'contenido', 'votos', 'slug', 'album', 'artista'])"
      ]
     },
     "execution_count": 38,
     "metadata": {},
     "output_type": "execute_result"
    }
   ],
   "source": [
    "keys = ver.find_one().keys()\n",
    "keys"
   ]
  },
  {
   "cell_type": "code",
   "execution_count": 43,
   "metadata": {
    "collapsed": false
   },
   "outputs": [
    {
     "data": {
      "text/plain": [
       "{'_id': 0,\n",
       " 'acordes': 1,\n",
       " 'album': 1,\n",
       " 'artista': 1,\n",
       " 'autor': 1,\n",
       " 'codigo': 1,\n",
       " 'contenido': 1,\n",
       " 'formato': 1,\n",
       " 'nombre': 1,\n",
       " 'puntaje': 1,\n",
       " 'slug': 1,\n",
       " 'transcriptor': 1,\n",
       " 'version_number': 1,\n",
       " 'votos': 1}"
      ]
     },
     "execution_count": 43,
     "metadata": {},
     "output_type": "execute_result"
    }
   ],
   "source": [
    "proy = {key: 0 if key == '_id' else 1 for key in keys}\n",
    "proy"
   ]
  },
  {
   "cell_type": "code",
   "execution_count": 44,
   "metadata": {
    "collapsed": false
   },
   "outputs": [
    {
     "data": {
      "text/plain": [
       "{'_id': '$codigo',\n",
       " 'acordes': 1,\n",
       " 'album': 1,\n",
       " 'artista': 1,\n",
       " 'autor': 1,\n",
       " 'contenido': 1,\n",
       " 'formato': 1,\n",
       " 'nombre': 1,\n",
       " 'puntaje': 1,\n",
       " 'slug': 1,\n",
       " 'transcriptor': 1,\n",
       " 'version_number': 1,\n",
       " 'votos': 1}"
      ]
     },
     "execution_count": 44,
     "metadata": {},
     "output_type": "execute_result"
    }
   ],
   "source": [
    "proy2 = proy.copy()\n",
    "proy2['_id'] = '$codigo'\n",
    "del proy2['codigo']\n",
    "proy2"
   ]
  },
  {
   "cell_type": "code",
   "execution_count": 45,
   "metadata": {
    "collapsed": true
   },
   "outputs": [],
   "source": [
    "c=ver.aggregate([\n",
    "        {\"$project\": proy},\n",
    "        {\"$project\": proy2},\n",
    "        {\"$out\": \"versions_with_id\"}\n",
    "    ])\n",
    "show_cursor(c)"
   ]
  },
  {
   "cell_type": "code",
   "execution_count": 47,
   "metadata": {
    "collapsed": false
   },
   "outputs": [
    {
     "data": {
      "text/plain": [
       "{'_id': 'nek0491',\n",
       " 'album': 'Nuevas Direcciones (2009)',\n",
       " 'artista': 'nek',\n",
       " 'autor': 'Nek',\n",
       " 'formato': 'R',\n",
       " 'nombre': 'Una hora más',\n",
       " 'puntaje': 9.25,\n",
       " 'slug': 'una_hora_mas',\n",
       " 'transcriptor': 'donyoyo',\n",
       " 'version_number': 1,\n",
       " 'votos': 4}"
      ]
     },
     "execution_count": 47,
     "metadata": {},
     "output_type": "execute_result"
    }
   ],
   "source": [
    "db.versions_with_id.find_one({}, dict(acordes=0, contenido=0))"
   ]
  },
  {
   "cell_type": "code",
   "execution_count": 48,
   "metadata": {
    "collapsed": true
   },
   "outputs": [],
   "source": [
    "ver.drop()"
   ]
  },
  {
   "cell_type": "code",
   "execution_count": 49,
   "metadata": {
    "collapsed": true
   },
   "outputs": [],
   "source": [
    "db.versions_with_id.rename('versions')"
   ]
  },
  {
   "cell_type": "markdown",
   "metadata": {},
   "source": [
    "### Crear índices"
   ]
  },
  {
   "cell_type": "code",
   "execution_count": 52,
   "metadata": {
    "collapsed": false
   },
   "outputs": [
    {
     "data": {
      "text/plain": [
       "'artista_1_slug_1_version_number_1'"
      ]
     },
     "execution_count": 52,
     "metadata": {},
     "output_type": "execute_result"
    }
   ],
   "source": [
    "ver.create_index([(\"artista\", 1), (\"slug\", 1), (\"version_number\", 1)], unique=True)"
   ]
  },
  {
   "cell_type": "code",
   "execution_count": 64,
   "metadata": {
    "collapsed": false
   },
   "outputs": [
    {
     "data": {
      "text/plain": [
       "{'_id': 'nek0491',\n",
       " 'album': 'Nuevas Direcciones (2009)',\n",
       " 'artista': 'nek',\n",
       " 'autor': 'Nek',\n",
       " 'formato': 'R',\n",
       " 'nombre': 'Una hora más',\n",
       " 'puntaje': 9.25,\n",
       " 'slug': 'una_hora_mas',\n",
       " 'transcriptor': 'donyoyo',\n",
       " 'version_number': 1,\n",
       " 'votos': 4}"
      ]
     },
     "execution_count": 64,
     "metadata": {},
     "output_type": "execute_result"
    }
   ],
   "source": [
    "ver.find_one({},{\"acordes\":0,\"contenido\":0})"
   ]
  },
  {
   "cell_type": "markdown",
   "metadata": {},
   "source": [
    "### Crear colección songs\n",
    "Con las versiones correspondientes embebidas"
   ]
  },
  {
   "cell_type": "code",
   "execution_count": 65,
   "metadata": {
    "collapsed": false
   },
   "outputs": [
    {
     "data": {
      "text/plain": [
       "{'_id': 'nek0491',\n",
       " 'album': 'Nuevas Direcciones (2009)',\n",
       " 'artista': 'nek',\n",
       " 'autor': 'Nek',\n",
       " 'formato': 'R',\n",
       " 'nombre': 'Una hora más',\n",
       " 'puntaje': 9.25,\n",
       " 'slug': 'una_hora_mas',\n",
       " 'transcriptor': 'donyoyo',\n",
       " 'version_number': 1,\n",
       " 'votos': 4}"
      ]
     },
     "execution_count": 65,
     "metadata": {},
     "output_type": "execute_result"
    }
   ],
   "source": [
    "# Estructura de la colección versiones\n",
    "# No muestro los campos acordes ni contenido para verlo mejor\n",
    "ver.find_one({}, {\"acordes\":0, \"contenido\": 0})"
   ]
  },
  {
   "cell_type": "code",
   "execution_count": 22,
   "metadata": {
    "collapsed": false
   },
   "outputs": [],
   "source": [
    "cur = ver.aggregate([\n",
    "        {\"$sort\": OrderedDict([('artista', 1), ('slug', 1), ('album', -1)])},  # Para elegir un álbum que no sea None\n",
    "        {\"$group\": {\"_id\": {\"artista\": \"$artista\",\n",
    "                            \"slug\": \"$slug\"},\n",
    "                    \"nombre\": {\"$first\": \"$nombre\"},\n",
    "                    \"album\": {\"$first\": \"$album\"},\n",
    "                    # \"version_count\": {\"$sum\": 1},\n",
    "                    \"versiones\": {\"$push\": {\"_id\": \"$_id\", \n",
    "                                            \"acordes\": \"$acordes\",\n",
    "                                            \"contenido\": \"$contenido\",\n",
    "                                            \"album\": \"$album\",\n",
    "                                            \"autor\": \"$autor\",\n",
    "                                            \"formato\": \"$formato\",\n",
    "                                            \"puntaje\": \"$puntaje\",\n",
    "                                            \"votos\": \"$votos\",\n",
    "                                            \"transcriptor\": \"$transcriptor\",\n",
    "                                            \"version_number\": \"$version_numer\"}}}},\n",
    "        {\"$project\": {\"_id\": {\"$concat\": [\"$_id.artista\", \"/\", \"$_id.slug\"]},\n",
    "                      \"artista\": \"$_id.artista\",\n",
    "                      \"slug\": \"$_id.slug\",\n",
    "                      \"nombre\": \"$nombre\",\n",
    "                      \"album\": \"$album\",\n",
    "                      \"versiones\": \"$versiones\"}},\n",
    "        # {\"$sort\": {\"_id\": -1}},\n",
    "        # {\"$limit\": 10}\n",
    "        {\"$out\": \"songs\"}\n",
    "    ], allowDiskUse=True)\n",
    "show_cursor(cur)"
   ]
  },
  {
   "cell_type": "code",
   "execution_count": 23,
   "metadata": {
    "collapsed": false
   },
   "outputs": [
    {
     "data": {
      "text/plain": [
       "(120165, 162392)"
      ]
     },
     "execution_count": 23,
     "metadata": {},
     "output_type": "execute_result"
    }
   ],
   "source": [
    "db.songs.count(), db.versions.count()"
   ]
  },
  {
   "cell_type": "markdown",
   "metadata": {},
   "source": [
    "### Índices comunes en songs"
   ]
  },
  {
   "cell_type": "code",
   "execution_count": 24,
   "metadata": {
    "collapsed": true
   },
   "outputs": [],
   "source": [
    "songs = db.songs"
   ]
  },
  {
   "cell_type": "code",
   "execution_count": 25,
   "metadata": {
    "collapsed": false
   },
   "outputs": [
    {
     "data": {
      "text/plain": [
       "'artista_1_slug_1'"
      ]
     },
     "execution_count": 25,
     "metadata": {},
     "output_type": "execute_result"
    }
   ],
   "source": [
    "songs.create_index([('artista', 1), ('slug', 1)])"
   ]
  },
  {
   "cell_type": "code",
   "execution_count": 26,
   "metadata": {
    "collapsed": false
   },
   "outputs": [
    {
     "data": {
      "text/plain": [
       "'versiones._id_1'"
      ]
     },
     "execution_count": 26,
     "metadata": {},
     "output_type": "execute_result"
    }
   ],
   "source": [
    "songs.create_index('versiones._id', unique=True)"
   ]
  },
  {
   "cell_type": "markdown",
   "metadata": {},
   "source": [
    "### Nombre del artista embebido a la canción para crear índice compuesto de texto"
   ]
  },
  {
   "cell_type": "code",
   "execution_count": 29,
   "metadata": {
    "collapsed": false
   },
   "outputs": [
    {
     "data": {
      "text/plain": [
       "{'_id': 'andres_calamaro/cartas_sin_marcar',\n",
       " 'album': 'Por Mirarte (1988)',\n",
       " 'artista': 'andres_calamaro',\n",
       " 'nombre': 'Cartas sin marcar',\n",
       " 'nombre_artista': 'Andrés Calamaro',\n",
       " 'slug': 'cartas_sin_marcar',\n",
       " 'versiones': [{'_id': 'acal0082',\n",
       "   'album': 'Por Mirarte (1988)',\n",
       "   'autor': 'Rot Calamaro',\n",
       "   'formato': 'R',\n",
       "   'puntaje': 9.48,\n",
       "   'transcriptor': '44702',\n",
       "   'votos': 86},\n",
       "  {'_id': 'acal0083',\n",
       "   'album': 'Por Mirarte (1988)',\n",
       "   'autor': 'Rot Calamaro',\n",
       "   'formato': 'K',\n",
       "   'puntaje': 8.62,\n",
       "   'transcriptor': '38683',\n",
       "   'votos': 22},\n",
       "  {'_id': 'acal0081',\n",
       "   'album': 'Por Mirarte (1988)',\n",
       "   'autor': 'Rot Calamaro',\n",
       "   'formato': 'R',\n",
       "   'puntaje': 8.71,\n",
       "   'transcriptor': \"javascript:amigo('N:0')\",\n",
       "   'votos': 52}]}"
      ]
     },
     "execution_count": 29,
     "metadata": {},
     "output_type": "execute_result"
    }
   ],
   "source": [
    "# Estructura de la colección songs\n",
    "# No muestro los campos acordes ni contenido para verlo mejor\n",
    "songs.find_one({\"_id\": \"andres_calamaro/cartas_sin_marcar\"}, {\"versiones.acordes\":0, \"versiones.contenido\": 0})"
   ]
  },
  {
   "cell_type": "code",
   "execution_count": 28,
   "metadata": {
    "collapsed": false
   },
   "outputs": [
    {
     "name": "stdout",
     "output_type": "stream",
     "text": [
      "34.808268547058105\n"
     ]
    }
   ],
   "source": [
    "import time; init = time.time()\n",
    "for artist in art.find():\n",
    "    songs.update_many({\"artista\": artist['_id']}, {\"$set\": {\"nombre_artista\": artist['nombre']}})\n",
    "print(time.time() - init)"
   ]
  },
  {
   "cell_type": "markdown",
   "metadata": {
    "collapsed": true
   },
   "source": [
    "### Crear text indexes en songs (nombre de canción, nombre de artista, álbum)"
   ]
  },
  {
   "cell_type": "code",
   "execution_count": 32,
   "metadata": {
    "collapsed": false
   },
   "outputs": [
    {
     "data": {
      "text/plain": [
       "'nombre_text_nombre_artista_text_album_text'"
      ]
     },
     "execution_count": 32,
     "metadata": {},
     "output_type": "execute_result"
    }
   ],
   "source": [
    "songs.create_index([(\"nombre\", \"text\"), (\"nombre_artista\", \"text\"), (\"album\", \"text\")])"
   ]
  },
  {
   "cell_type": "code",
   "execution_count": 31,
   "metadata": {
    "collapsed": true
   },
   "outputs": [],
   "source": [
    "songs.drop_index('slug_text_nombre_artista_text_album_text')"
   ]
  },
  {
   "cell_type": "markdown",
   "metadata": {},
   "source": [
    "### Crear colección songs_search para mejorar performance\n",
    "La búsqueda de texto en songs trae muy malos resultados en cuanto a performance. Voy a probar creando una colección similar pero solamente con los campos de búsqueda"
   ]
  },
  {
   "cell_type": "code",
   "execution_count": 4,
   "metadata": {
    "collapsed": false
   },
   "outputs": [],
   "source": [
    "cur=songs.aggregate([\n",
    "        {\"$project\": dict(album=1, artista=1, nombre=1, nombre_artista=1, slug=1)},\n",
    "        #{\"$limit\": 5},\n",
    "        {\"$out\": \"songs_search\"}\n",
    "    ])"
   ]
  },
  {
   "cell_type": "code",
   "execution_count": 6,
   "metadata": {
    "collapsed": true
   },
   "outputs": [],
   "source": [
    "songs_search = db.songs_search\n",
    "songs_search.create_index?"
   ]
  },
  {
   "cell_type": "code",
   "execution_count": 10,
   "metadata": {
    "collapsed": false
   },
   "outputs": [],
   "source": [
    "songs_search.drop_index('nombre_text_nombre_artista_text_album_text')"
   ]
  },
  {
   "cell_type": "code",
   "execution_count": 14,
   "metadata": {
    "collapsed": false
   },
   "outputs": [
    {
     "data": {
      "text/plain": [
       "'nombre_text_nombre_artista_text_album_text'"
      ]
     },
     "execution_count": 14,
     "metadata": {},
     "output_type": "execute_result"
    }
   ],
   "source": [
    "songs_search.create_index([(\"nombre\", \"text\"), (\"nombre_artista\", \"text\"), (\"album\", \"text\")],\n",
    "                           default_language='spanish',\n",
    "                           weights=dict(album=1, nombre_artista=2, nombre=4))"
   ]
  },
  {
   "cell_type": "code",
   "execution_count": null,
   "metadata": {
    "collapsed": true
   },
   "outputs": [],
   "source": [
    "song"
   ]
  }
 ],
 "metadata": {
  "kernelspec": {
   "display_name": "Python 3",
   "language": "python",
   "name": "python3"
  },
  "language_info": {
   "codemirror_mode": {
    "name": "ipython",
    "version": 3
   },
   "file_extension": ".py",
   "mimetype": "text/x-python",
   "name": "python",
   "nbconvert_exporter": "python",
   "pygments_lexer": "ipython3",
   "version": "3.5.0"
  }
 },
 "nbformat": 4,
 "nbformat_minor": 0
}
