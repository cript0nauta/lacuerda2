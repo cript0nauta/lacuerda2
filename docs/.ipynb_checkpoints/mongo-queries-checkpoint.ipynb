{
 "cells": [
  {
   "cell_type": "code",
   "execution_count": 5,
   "metadata": {
    "collapsed": true
   },
   "outputs": [],
   "source": [
    "import pymongo\n",
    "import operator\n",
    "import itertools\n",
    "from pprint import pprint"
   ]
  },
  {
   "cell_type": "code",
   "execution_count": 6,
   "metadata": {
    "collapsed": true
   },
   "outputs": [],
   "source": [
    "con = pymongo.MongoClient()\n",
    "db = con.lacuerda\n",
    "art = db.artists\n",
    "ver = db.versions\n",
    "songs = db.songs\n",
    "\n",
    "def show_cursor(cursor, limit=10):\n",
    "    for item in itertools.islice(cursor, limit):\n",
    "        pprint(item)"
   ]
  },
  {
   "cell_type": "markdown",
   "metadata": {},
   "source": [
    "### Ver si el album de una canción es el mismo en todas las versiones"
   ]
  },
  {
   "cell_type": "code",
   "execution_count": 7,
   "metadata": {
    "collapsed": false
   },
   "outputs": [
    {
     "name": "stdout",
     "output_type": "stream",
     "text": [
      "{'_id': {'slug': 'extranio', 'artista': 'rodriguez'}, 'albums': ['Hasta Luego', 'Palabras Mas Palabras Menos'], 'album_count': 2}\n",
      "{'_id': {'slug': 'ahi_ahi', 'artista': 'silvestre_dangon'}, 'albums': ['La Fama (2007)', 'La Fama'], 'album_count': 2}\n",
      "{'_id': {'slug': 'autos_moda_y_rock_and_roll', 'artista': 'moderatto'}, 'albums': ['Tema de la Pelicula cars 2', 'Tema de la Pelicula cars 2 (2011)'], 'album_count': 2}\n",
      "{'_id': {'slug': 'por_que', 'artista': 'floricienta_y_su_banda'}, 'albums': ['Floricienta y su Banda (2005)', 'Karaoke (2004)'], 'album_count': 2}\n",
      "{'_id': {'slug': 'que_mas_da', 'artista': 'haash'}, 'albums': ['Hecho Realidad (2014)', 'Ha ash 1f (2014)'], 'album_count': 2}\n",
      "{'_id': {'slug': 'nunca_aprendimos', 'artista': 'yahir'}, 'albums': ['Elemental (2009)'], 'album_count': 1}\n",
      "{'_id': {'slug': 'amiga', 'artista': 'yahir'}, 'albums': ['Tributo a Roberto Carlos (2005)'], 'album_count': 1}\n",
      "{'_id': {'slug': 'en_ti', 'artista': 'yahir'}, 'albums': ['Elemental (2009)'], 'album_count': 1}\n",
      "{'_id': {'slug': 'detalles', 'artista': 'yahir'}, 'albums': ['No te Apartes de mi (2006)'], 'album_count': 1}\n",
      "{'_id': {'slug': 'fue_ella_fui_yo', 'artista': 'yahir'}, 'albums': ['Otra Historia de amor (2004)'], 'album_count': 1}\n"
     ]
    }
   ],
   "source": [
    "cur=ver.aggregate([\n",
    "        {\"$match\": {\"album\": {\"$ne\": None}}},\n",
    "        {\"$group\": {\"_id\": {\"artista\": \"$artista\", \"slug\": \"$slug\"},\n",
    "                    # \"versiones\": {\"$sum\": 1},\n",
    "                    \"albums\": {\"$addToSet\": \"$album\"}}},\n",
    "        {\"$project\": {\"_id\": 1, \"albums\": 1, \"album_count\": {\"$size\": \"$albums\"}}},\n",
    "        {\"$sort\": {\"album_count\": -1}},\n",
    "        {\"$limit\": 10}\n",
    "    ])\n",
    "show_cursor(cur)"
   ]
  },
  {
   "cell_type": "markdown",
   "metadata": {},
   "source": [
    "Conclusión: depende de la versión"
   ]
  },
  {
   "cell_type": "markdown",
   "metadata": {},
   "source": [
    "### Ver si el compositor de una canción es el mismo en todas las versiones"
   ]
  },
  {
   "cell_type": "code",
   "execution_count": 9,
   "metadata": {
    "collapsed": false
   },
   "outputs": [
    {
     "name": "stdout",
     "output_type": "stream",
     "text": [
      "{'_id': {'slug': 'a_tus_pies', 'artista': 'marco_barrientos'}, 'autores': ['Marco barrientos', 'Marcos Barrientos,klaus Kuehn.'], 'autor_count': 2}\n",
      "{'_id': {'slug': 'el_duelo_unplugged', 'artista': 'ley'}, 'autores': ['Bobe, Cuevas', 'la Ley\\xa0 '], 'autor_count': 2}\n",
      "{'_id': {'slug': 'extranio', 'artista': 'rodriguez'}, 'autores': ['los Rodriguez\\xa0 ', 'Julian Infante'], 'autor_count': 2}\n",
      "{'_id': {'slug': 'y_lo_que_quiero_es_que_pises', 'artista': 'catupecu_machu'}, 'autores': ['F. Ruiz Díaz, G. Ruiz Díaz, M. Sosa', 'Fernando ruiz diaz'], 'autor_count': 2}\n",
      "{'_id': {'slug': 'lamina', 'artista': 'flema'}, 'autores': ['Ricky Espinosa', 'Ricky'], 'autor_count': 2}\n",
      "{'_id': {'slug': 'ahi_ahi', 'artista': 'silvestre_dangon'}, 'autores': ['Jorge Valbuena', 'Silvestre Dangond\\xa0 '], 'autor_count': 2}\n",
      "{'_id': {'slug': 'por_que', 'artista': 'floricienta_y_su_banda'}, 'autores': ['Floricienta y su banda\\xa0 ', 'María Cristina De Giácomi, Carlos Nilson'], 'autor_count': 2}\n",
      "{'_id': {'slug': 'que_mas_da', 'artista': 'haash'}, 'autores': ['Hanna y Ashley Pérez', 'Ashley, Hanna Perez, joy Huerta, Julio Ramirez'], 'autor_count': 2}\n",
      "{'_id': {'slug': 'nunca_aprendimos', 'artista': 'yahir'}, 'autores': ['Yahir'], 'autor_count': 1}\n",
      "{'_id': {'slug': 'amiga', 'artista': 'yahir'}, 'autores': ['Roberto Carlos'], 'autor_count': 1}\n"
     ]
    }
   ],
   "source": [
    "cur=ver.aggregate([\n",
    "        {\"$match\": {\"autor\": {\"$ne\": None}}},\n",
    "        {\"$group\": {\"_id\": {\"artista\": \"$artista\", \"slug\": \"$slug\"},\n",
    "                    # \"versiones\": {\"$sum\": 1},\n",
    "                    \"autores\": {\"$addToSet\": \"$autor\"}}},\n",
    "        {\"$project\": {\"_id\": 1, \"autores\": 1, \"autor_count\": {\"$size\": \"$autores\"}}},\n",
    "        {\"$sort\": {\"autor_count\": -1}},\n",
    "        {\"$limit\": 10}\n",
    "    ])\n",
    "show_cursor(cur)"
   ]
  },
  {
   "cell_type": "markdown",
   "metadata": {},
   "source": [
    "El artista también depende de la versión"
   ]
  },
  {
   "cell_type": "markdown",
   "metadata": {
    "collapsed": true
   },
   "source": [
    "### Búsqueda de texto"
   ]
  },
  {
   "cell_type": "code",
   "execution_count": 27,
   "metadata": {
    "collapsed": false
   },
   "outputs": [
    {
     "name": "stdout",
     "output_type": "stream",
     "text": [
      "{'_id': 'andres_calamaro/buena_suerte_y_hasta_luego',\n",
      " 'album': 'Grabaciones Encontradas (Dos)',\n",
      " 'artista': 'andres_calamaro',\n",
      " 'nombre': 'Buena Suerte y hasta luego',\n",
      " 'nombre_artista': 'Andrés Calamaro',\n",
      " 'score': 3.0,\n",
      " 'slug': 'buena_suerte_y_hasta_luego',\n",
      " 'versiones': [{'_id': 'acal0722',\n",
      "                'album': 'Grabaciones Encontradas (Dos)',\n",
      "                'autor': 'Andrés Calamaro',\n",
      "                'formato': 'R',\n",
      "                'puntaje': 8.01,\n",
      "                'transcriptor': 'roman_tico87',\n",
      "                'votos': 91},\n",
      "               {'_id': 'acal0723',\n",
      "                'album': 'Grabaciones Encontradas (Dos)',\n",
      "                'autor': 'Andrés Calamaro',\n",
      "                'formato': 'R',\n",
      "                'puntaje': 8.02,\n",
      "                'transcriptor': '14946',\n",
      "                'votos': 69},\n",
      "               {'_id': 'acal0721',\n",
      "                'album': 'Grabaciones Encontradas (Dos)',\n",
      "                'autor': 'Andrés Calamaro',\n",
      "                'formato': 'R',\n",
      "                'puntaje': 7.41,\n",
      "                'transcriptor': 'el_zuca',\n",
      "                'votos': 17}]}\n",
      "{'_id': 'rodriguez/buena_suerte_y_hasta_luego',\n",
      " 'album': 'Grabaciones Encontradas Vol. II (Ü¿¿)',\n",
      " 'artista': 'rodriguez',\n",
      " 'nombre': 'Buena Suerte y Hasta Luego',\n",
      " 'nombre_artista': 'los Rodriguez',\n",
      " 'score': 3.0,\n",
      " 'slug': 'buena_suerte_y_hasta_luego',\n",
      " 'versiones': [{'_id': 'rodr0072',\n",
      "                'album': 'Grabaciones Encontradas Vol. II (Ü¿¿)',\n",
      "                'autor': 'Andres Calamaro',\n",
      "                'formato': 'R',\n",
      "                'puntaje': 6.88,\n",
      "                'transcriptor': '5584',\n",
      "                'votos': 16},\n",
      "               {'_id': 'rodr0071',\n",
      "                'album': 'Grabaciones Encontradas Vol. II (Ü¿¿)',\n",
      "                'autor': 'Andres Calamaro',\n",
      "                'formato': 'R',\n",
      "                'puntaje': 0.0,\n",
      "                'transcriptor': \"javascript:amigo('U:guilleb')\",\n",
      "                'votos': 0}]}\n"
     ]
    }
   ],
   "source": [
    "query = '\"buena suerte y hasta luego\"'\n",
    "fields = {\"versiones.acordes\":0, \"versiones.contenido\": 0}\n",
    "cur = songs.find({\"$text\": {\"$search\": query}},\n",
    "                 {\"versiones.acordes\":0, \"versiones.contenido\": 0, \"score\": {\"$meta\": \"textScore\"}}).sort(\n",
    "    [('score', {\"$meta\": \"textScore\"})]).limit(5)\n",
    "show_cursor(cur)"
   ]
  },
  {
   "cell_type": "code",
   "execution_count": null,
   "metadata": {
    "collapsed": true
   },
   "outputs": [],
   "source": []
  }
 ],
 "metadata": {
  "kernelspec": {
   "display_name": "Python 3",
   "language": "python",
   "name": "python3"
  },
  "language_info": {
   "codemirror_mode": {
    "name": "ipython",
    "version": 3
   },
   "file_extension": ".py",
   "mimetype": "text/x-python",
   "name": "python",
   "nbconvert_exporter": "python",
   "pygments_lexer": "ipython3",
   "version": "3.5.0"
  }
 },
 "nbformat": 4,
 "nbformat_minor": 0
}
